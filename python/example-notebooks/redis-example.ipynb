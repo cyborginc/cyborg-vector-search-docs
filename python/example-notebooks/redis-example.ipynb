{
 "cells": [
  {
   "cell_type": "code",
   "execution_count": null,
   "metadata": {},
   "outputs": [],
   "source": [
    "# Imports\n",
    "import os\n",
    "import numpy as np\n",
    "import time \n",
    "import h5py\n",
    "import cyborg_vector_search_py as cvs"
   ]
  },
  {
   "cell_type": "code",
   "execution_count": null,
   "metadata": {},
   "outputs": [],
   "source": [
    "# Parameters\n",
    "dataset = \"sift-128-euclidean\"\n",
    "dimension = 128\n",
    "index_type = \"IVFFlat\"\n",
    "n_lists = 4096\n",
    "metric = \"euclidean\"\n",
    "\n",
    "# Training parameters\n",
    "batch_size = 2048\n",
    "max_iters = 100\n",
    "max_dataset_size = 1000000\n",
    "training_ratio = 0.1 # Number of vectors to use for training (rest will be indexed post-training)\n",
    "top_k = 100\n",
    "\n",
    "# Location configuration\n",
    "redis_connection_string = \"host:127.0.0.1,port:6379,db:0\" # Set this to your Redis connection string\n",
    "index_location = cvs.LocationConfig(cvs.Location.REDIS, \"index_table\", redis_connection_string)\n",
    "config_location = cvs.LocationConfig(cvs.Location.REDIS, \"config_table\", redis_connection_string)\n",
    "\n",
    "# Index configuration\n",
    "index_config = cvs.IndexIVFFlat(dimension, n_lists, metric, False)"
   ]
  },
  {
   "cell_type": "code",
   "execution_count": null,
   "metadata": {},
   "outputs": [],
   "source": [
    "# Load the dataset\n",
    "with h5py.File(f'data/{dataset}.hdf5', 'r') as file:\n",
    "    train = np.array(file['train'], dtype=np.float32)\n",
    "    test = np.array(file['test'], dtype=np.float32)\n",
    "    neighbors = np.array(file['neighbors'], dtype=np.int32)\n",
    "\n",
    "# Setup the training data\n",
    "vectors = train[:max_dataset_size]\n",
    "ids = np.arange(max_dataset_size)\n",
    "training_size = int(max_dataset_size * training_ratio)\n",
    "training_vectors = vectors[:training_size]\n",
    "training_ids = ids[:training_size]\n",
    "remaining_vectors = vectors[training_size:]\n",
    "remaining_ids = ids[training_size:]"
   ]
  },
  {
   "cell_type": "code",
   "execution_count": null,
   "metadata": {},
   "outputs": [],
   "source": [
    "# Setup the CVS client\n",
    "client = cvs.CyborgVectorSearch(\n",
    "    index_location=index_location,\n",
    "    config_location=config_location,\n",
    "    cpu_threads = 16,\n",
    "    gpu_accelerate = False\n",
    ")\n",
    "\n",
    "# Dummy index name and key\n",
    "index_name = \"redis_example_index\"\n",
    "index_key = bytes([0] * 32)\n",
    "\n",
    "# Delete example index if it exists already\n",
    "try:\n",
    "    client.load_index(index_name, index_key)\n",
    "    client.delete_index()\n",
    "except:\n",
    "    pass # Index does not exist, no need to delete\n",
    "\n",
    "# Create the index\n",
    "client.create_index(index_name, index_key, index_config)"
   ]
  },
  {
   "cell_type": "code",
   "execution_count": null,
   "metadata": {},
   "outputs": [],
   "source": [
    "# Upsert untrained\n",
    "\n",
    "start = time.time()\n",
    "client.upsert(training_vectors, training_ids)\n",
    "print(f\"Upserted {training_size} vectors in {time.time() - start:.2f} seconds\")"
   ]
  },
  {
   "cell_type": "code",
   "execution_count": null,
   "metadata": {},
   "outputs": [],
   "source": [
    "# Untrained query\n",
    "\n",
    "n_probes = 10\n",
    "num_queries = 1000\n",
    "initial_queries = test[:num_queries]\n",
    "\n",
    "start = time.time()\n",
    "results = client.query(initial_queries, top_k, n_probes)\n",
    "end = time.time()\n",
    "\n",
    "# Compute the neighbors for the training_size vectors\n",
    "dists = np.sum(training_vectors**2, axis=1) - 2 * np.dot(initial_queries, training_vectors.T) + np.sum(initial_queries**2, axis=1)[:, np.newaxis]\n",
    "initial_neighbors = np.argpartition(dists, top_k, axis=1)[:, :top_k]\n",
    "initial_neighbors = np.take_along_axis(initial_neighbors, np.argsort(dists[np.arange(dists.shape[0])[:, None], initial_neighbors], axis=1), axis=1)\n",
    "\n",
    "# Compute the recall using the neighbors\n",
    "recall = np.zeros(initial_queries.shape[0])\n",
    "for i in range(initial_queries.shape[0]):\n",
    "    recall[i] = len(np.intersect1d(initial_neighbors[i], results[i])) / len(initial_neighbors[i])\n",
    "\n",
    "print(f\"Queried {initial_queries.shape[0]} vectors in {end - start:.2f} seconds\")\n",
    "print(f\"QPS: {num_queries / (end - start):.2f}\")\n",
    "print(f\"Mean recall: {recall.mean() * 100:.2f}%\")"
   ]
  },
  {
   "cell_type": "code",
   "execution_count": null,
   "metadata": {},
   "outputs": [],
   "source": [
    "# Train index for faster queries\n",
    "\n",
    "start = time.time()\n",
    "client.train_index(batch_size, max_iters)\n",
    "print(f\"Trained index with {training_size} vectors in {time.time() - start:.2f} seconds\")"
   ]
  },
  {
   "cell_type": "code",
   "execution_count": null,
   "metadata": {},
   "outputs": [],
   "source": [
    "# Trained query\n",
    "\n",
    "n_probes = 32\n",
    "\n",
    "# Query the test set\n",
    "start = time.time()\n",
    "results = client.query(initial_queries, top_k, n_probes)\n",
    "end = time.time()\n",
    "\n",
    "# Compute the recall using the neighbors\n",
    "results = np.array(results)\n",
    "recall = np.zeros(initial_queries.shape[0])\n",
    "for i in range(initial_queries.shape[0]):\n",
    "    recall[i] = len(np.intersect1d(initial_neighbors[i], results[i])) / len(initial_neighbors[i])\n",
    "\n",
    "print(f\"Queried {initial_queries.shape[0]} vectors in {end - start:.2f} seconds\")\n",
    "print(f\"QPS: {num_queries / (end - start):.2f}\")\n",
    "print(f\"Mean recall: {recall.mean() * 100:.2f}%\")"
   ]
  },
  {
   "cell_type": "code",
   "execution_count": null,
   "metadata": {},
   "outputs": [],
   "source": [
    "# Upsert remaining (skip if training ratio is 1)\n",
    "if training_ratio < 1:\n",
    "\n",
    "    start = time.time()\n",
    "    client.upsert(remaining_vectors, remaining_ids)\n",
    "    print(f\"Upserted {remaining_vectors.shape[0]} vectors in {time.time() - start:.2f} seconds\")\n",
    "    print(f\"VPS: {remaining_vectors.shape[0] / (time.time() - start):.2f}\")"
   ]
  },
  {
   "cell_type": "code",
   "execution_count": null,
   "metadata": {},
   "outputs": [],
   "source": [
    "# Trained query\n",
    "\n",
    "n_probes = 32\n",
    "\n",
    "# Query the test set\n",
    "start = time.time()\n",
    "results = client.query(test, top_k, n_probes)\n",
    "end = time.time()\n",
    "\n",
    "# Convert the results to numpy array\n",
    "results = np.array(results)\n",
    "if neighbors.shape != results.shape:\n",
    "    raise ValueError(\"The shapes of the neighbors and results do not match\")\n",
    "\n",
    "# Compute the recall using the neighbors\n",
    "recall = np.zeros(test.shape[0])\n",
    "for i in range(test.shape[0]):\n",
    "    recall[i] = len(np.intersect1d(neighbors[i], results[i])) / len(neighbors[i])\n",
    "\n",
    "print(f\"Queried {test.shape[0]} vectors in {end - start:.2f} seconds\")\n",
    "print(f\"QPS: {test.shape[0] / (end - start):.2f}\")\n",
    "print(f\"Mean recall: {recall.mean() * 100:.2f}%\")"
   ]
  },
  {
   "cell_type": "code",
   "execution_count": null,
   "metadata": {},
   "outputs": [],
   "source": [
    "# Cleanup\n",
    "\n",
    "client.delete_index()"
   ]
  }
 ],
 "metadata": {
  "kernelspec": {
   "display_name": "virtual.env",
   "language": "python",
   "name": "python3"
  },
  "language_info": {
   "codemirror_mode": {
    "name": "ipython",
    "version": 3
   },
   "file_extension": ".py",
   "mimetype": "text/x-python",
   "name": "python",
   "nbconvert_exporter": "python",
   "pygments_lexer": "ipython3",
   "version": "3.12.3"
  }
 },
 "nbformat": 4,
 "nbformat_minor": 2
}
